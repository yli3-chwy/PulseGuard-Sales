{
 "cells": [
  {
   "cell_type": "code",
   "execution_count": 6,
   "metadata": {},
   "outputs": [],
   "source": [
    "import numpy as np\n",
    "import pandas as pd\n",
    "import warnings\n",
    "import os\n",
    "import sys\n",
    "\n",
    "from IPython import get_ipython\n",
    "\n",
    "root_dir = os.path.abspath(os.path.join(os.getcwd(), '..'))\n",
    "sys.path.append(root_dir)\n",
    "\n",
    "from utils.utils import get_absolute_path, run_query\n",
    "from utils.constant import *\n",
    "\n",
    "pd.set_option('display.max_columns', None)\n",
    "warnings.filterwarnings(\"ignore\")\n",
    "\n",
    "\n",
    "os.environ['VERTICA_USER'] = 'yli3'\n",
    "os.environ['VERTICA_PASSWORD'] = \"!8!UxvJdmpT2R@T\"\n"
   ]
  },
  {
   "cell_type": "code",
   "execution_count": 10,
   "metadata": {},
   "outputs": [],
   "source": [
    "import vertica_python\n",
    "query = input_script\n",
    "user = os.environ.get('VERTICA_USER')\n",
    "password = os.environ.get('VERTICA_PASSWORD')\n",
    "conn_info = {'host': 'bidb.chewy.local',\n",
    "                'port': 5433,\n",
    "                'user': user,\n",
    "                'password': password,\n",
    "                'database': 'bidb',\n",
    "                'read_timeout': 15000,\n",
    "                'connection_timeout': 10000\n",
    "                }\n",
    "\n",
    "connection = vertica_python.connect(**conn_info)\n",
    "cursor = connection.cursor()\n",
    "\n",
    "df = pd.DataFrame()\n",
    "df = pd.read_sql(query.format(**query_args), connection, chunksize=None)\n",
    "connection.commit()"
   ]
  },
  {
   "cell_type": "code",
   "execution_count": null,
   "metadata": {},
   "outputs": [],
   "source": []
  },
  {
   "cell_type": "code",
   "execution_count": null,
   "metadata": {},
   "outputs": [],
   "source": []
  },
  {
   "cell_type": "markdown",
   "metadata": {},
   "source": [
    "user = os.environ.get('VERTICA_USER')\n",
    "    password = os.environ.get('VERTICA_PASSWORD')"
   ]
  },
  {
   "cell_type": "code",
   "execution_count": 5,
   "metadata": {},
   "outputs": [
    {
     "ename": "DatabaseError",
     "evalue": "Execution failed on sql '/Users/yli3/Library/CloudStorage/GoogleDrive-yinpu.chewy@gmail.com/My Drive/Documents/Projects/PulseGuard-Sales/query/mega_sales.txt': Severity: ERROR, Message: Syntax error at or near \"/\", Sqlstate: 42601, Position: 1, Routine: base_yyerror, File: /data/qb_workspaces/jenkins2/ReleaseBuilds/Grader/REL-9_3_1-x_grader/build/vertica/Parser/scan.l, Line: 1043, Error Code: 4856, SQL: '/Users/yli3/Library/CloudStorage/GoogleDrive-yinpu.chewy@gmail.com/My Drive/Documents/Projects/PulseGuard-Sales/query/mega_sales.txt'",
     "output_type": "error",
     "traceback": [
      "\u001b[0;31m---------------------------------------------------------------------------\u001b[0m",
      "\u001b[0;31mVerticaSyntaxError\u001b[0m                        Traceback (most recent call last)",
      "File \u001b[0;32m~/anaconda3/lib/python3.11/site-packages/pandas/io/sql.py:2202\u001b[0m, in \u001b[0;36mSQLiteDatabase.execute\u001b[0;34m(self, sql, params)\u001b[0m\n\u001b[1;32m   2201\u001b[0m \u001b[39mtry\u001b[39;00m:\n\u001b[0;32m-> 2202\u001b[0m     cur\u001b[39m.\u001b[39mexecute(sql, \u001b[39m*\u001b[39margs)\n\u001b[1;32m   2203\u001b[0m     \u001b[39mreturn\u001b[39;00m cur\n",
      "File \u001b[0;32m~/anaconda3/lib/python3.11/site-packages/vertica_python/vertica/cursor.py:185\u001b[0m, in \u001b[0;36mCursor.handle_ctrl_c.<locals>.wrap\u001b[0;34m(self, *args, **kwargs)\u001b[0m\n\u001b[1;32m    184\u001b[0m \u001b[39mtry\u001b[39;00m:\n\u001b[0;32m--> 185\u001b[0m     \u001b[39mreturn\u001b[39;00m func(\u001b[39mself\u001b[39m, \u001b[39m*\u001b[39margs, \u001b[39m*\u001b[39m\u001b[39m*\u001b[39mkwargs)\n\u001b[1;32m    186\u001b[0m \u001b[39mexcept\u001b[39;00m \u001b[39mKeyboardInterrupt\u001b[39;00m:\n",
      "File \u001b[0;32m~/anaconda3/lib/python3.11/site-packages/vertica_python/vertica/cursor.py:259\u001b[0m, in \u001b[0;36mCursor.execute\u001b[0;34m(self, operation, parameters, use_prepared_statements, copy_stdin, buffer_size)\u001b[0m\n\u001b[1;32m    258\u001b[0m         operation \u001b[39m=\u001b[39m \u001b[39mself\u001b[39m\u001b[39m.\u001b[39mformat_operation_with_parameters(operation, parameters)\n\u001b[0;32m--> 259\u001b[0m     \u001b[39mself\u001b[39m\u001b[39m.\u001b[39m_execute_simple_query(operation)\n\u001b[1;32m    261\u001b[0m \u001b[39mreturn\u001b[39;00m \u001b[39mself\u001b[39m\n",
      "File \u001b[0;32m~/anaconda3/lib/python3.11/site-packages/vertica_python/vertica/cursor.py:762\u001b[0m, in \u001b[0;36mCursor._execute_simple_query\u001b[0;34m(self, query)\u001b[0m\n\u001b[1;32m    761\u001b[0m \u001b[39mif\u001b[39;00m \u001b[39misinstance\u001b[39m(\u001b[39mself\u001b[39m\u001b[39m.\u001b[39m_message, messages\u001b[39m.\u001b[39mErrorResponse):\n\u001b[0;32m--> 762\u001b[0m     \u001b[39mraise\u001b[39;00m errors\u001b[39m.\u001b[39mQueryError\u001b[39m.\u001b[39mfrom_error_response(\u001b[39mself\u001b[39m\u001b[39m.\u001b[39m_message, query)\n\u001b[1;32m    763\u001b[0m \u001b[39melif\u001b[39;00m \u001b[39misinstance\u001b[39m(\u001b[39mself\u001b[39m\u001b[39m.\u001b[39m_message, messages\u001b[39m.\u001b[39mRowDescription):\n",
      "\u001b[0;31mVerticaSyntaxError\u001b[0m: Severity: ERROR, Message: Syntax error at or near \"/\", Sqlstate: 42601, Position: 1, Routine: base_yyerror, File: /data/qb_workspaces/jenkins2/ReleaseBuilds/Grader/REL-9_3_1-x_grader/build/vertica/Parser/scan.l, Line: 1043, Error Code: 4856, SQL: '/Users/yli3/Library/CloudStorage/GoogleDrive-yinpu.chewy@gmail.com/My Drive/Documents/Projects/PulseGuard-Sales/query/mega_sales.txt'",
      "\nThe above exception was the direct cause of the following exception:\n",
      "\u001b[0;31mDatabaseError\u001b[0m                             Traceback (most recent call last)",
      "\u001b[1;32m/Users/yli3/Library/CloudStorage/GoogleDrive-yinpu.chewy@gmail.com/My Drive/Documents/Projects/PulseGuard-Sales/notebooks/mega_sales_eda.ipynb Cell 2\u001b[0m line \u001b[0;36m9\n\u001b[1;32m      <a href='vscode-notebook-cell:/Users/yli3/Library/CloudStorage/GoogleDrive-yinpu.chewy%40gmail.com/My%20Drive/Documents/Projects/PulseGuard-Sales/notebooks/mega_sales_eda.ipynb#W1sZmlsZQ%3D%3D?line=0'>1</a>\u001b[0m \u001b[39m# Load the data from database\u001b[39;00m\n\u001b[1;32m      <a href='vscode-notebook-cell:/Users/yli3/Library/CloudStorage/GoogleDrive-yinpu.chewy%40gmail.com/My%20Drive/Documents/Projects/PulseGuard-Sales/notebooks/mega_sales_eda.ipynb#W1sZmlsZQ%3D%3D?line=2'>3</a>\u001b[0m input_script \u001b[39m=\u001b[39m get_absolute_path(\n\u001b[1;32m      <a href='vscode-notebook-cell:/Users/yli3/Library/CloudStorage/GoogleDrive-yinpu.chewy%40gmail.com/My%20Drive/Documents/Projects/PulseGuard-Sales/notebooks/mega_sales_eda.ipynb#W1sZmlsZQ%3D%3D?line=3'>4</a>\u001b[0m     filename\u001b[39m=\u001b[39m\u001b[39m\"\u001b[39m\u001b[39mmega_sales.txt\u001b[39m\u001b[39m\"\u001b[39m,\n\u001b[1;32m      <a href='vscode-notebook-cell:/Users/yli3/Library/CloudStorage/GoogleDrive-yinpu.chewy%40gmail.com/My%20Drive/Documents/Projects/PulseGuard-Sales/notebooks/mega_sales_eda.ipynb#W1sZmlsZQ%3D%3D?line=4'>5</a>\u001b[0m     relative_path\u001b[39m=\u001b[39m\u001b[39m'\u001b[39m\u001b[39mquery\u001b[39m\u001b[39m'\u001b[39m,\n\u001b[1;32m      <a href='vscode-notebook-cell:/Users/yli3/Library/CloudStorage/GoogleDrive-yinpu.chewy%40gmail.com/My%20Drive/Documents/Projects/PulseGuard-Sales/notebooks/mega_sales_eda.ipynb#W1sZmlsZQ%3D%3D?line=5'>6</a>\u001b[0m     base_dir\u001b[39m=\u001b[39mPROJECT_BASE_DIR\n\u001b[1;32m      <a href='vscode-notebook-cell:/Users/yli3/Library/CloudStorage/GoogleDrive-yinpu.chewy%40gmail.com/My%20Drive/Documents/Projects/PulseGuard-Sales/notebooks/mega_sales_eda.ipynb#W1sZmlsZQ%3D%3D?line=6'>7</a>\u001b[0m )\n\u001b[0;32m----> <a href='vscode-notebook-cell:/Users/yli3/Library/CloudStorage/GoogleDrive-yinpu.chewy%40gmail.com/My%20Drive/Documents/Projects/PulseGuard-Sales/notebooks/mega_sales_eda.ipynb#W1sZmlsZQ%3D%3D?line=8'>9</a>\u001b[0m input_df \u001b[39m=\u001b[39m run_query(\n\u001b[1;32m     <a href='vscode-notebook-cell:/Users/yli3/Library/CloudStorage/GoogleDrive-yinpu.chewy%40gmail.com/My%20Drive/Documents/Projects/PulseGuard-Sales/notebooks/mega_sales_eda.ipynb#W1sZmlsZQ%3D%3D?line=9'>10</a>\u001b[0m     input_script, \u001b[39mTrue\u001b[39;00m, query_args\u001b[39m=\u001b[39m{\u001b[39m'\u001b[39m\u001b[39mdate1\u001b[39m\u001b[39m'\u001b[39m: \u001b[39m'\u001b[39m\u001b[39m2023-11-02\u001b[39m\u001b[39m'\u001b[39m}\n\u001b[1;32m     <a href='vscode-notebook-cell:/Users/yli3/Library/CloudStorage/GoogleDrive-yinpu.chewy%40gmail.com/My%20Drive/Documents/Projects/PulseGuard-Sales/notebooks/mega_sales_eda.ipynb#W1sZmlsZQ%3D%3D?line=10'>11</a>\u001b[0m )\n",
      "File \u001b[0;32m~/Library/CloudStorage/GoogleDrive-yinpu.chewy@gmail.com/My Drive/Documents/Projects/PulseGuard-Sales/utils/utils.py:66\u001b[0m, in \u001b[0;36mrun_query\u001b[0;34m(query, return_df, query_args)\u001b[0m\n\u001b[1;32m     64\u001b[0m df \u001b[39m=\u001b[39m pd\u001b[39m.\u001b[39mDataFrame()\n\u001b[1;32m     65\u001b[0m \u001b[39mif\u001b[39;00m return_df \u001b[39m==\u001b[39m \u001b[39mTrue\u001b[39;00m:\n\u001b[0;32m---> 66\u001b[0m     df \u001b[39m=\u001b[39m pd\u001b[39m.\u001b[39mread_sql(query\u001b[39m.\u001b[39mformat(\u001b[39m*\u001b[39m\u001b[39m*\u001b[39mquery_args), connection, chunksize\u001b[39m=\u001b[39m\u001b[39mNone\u001b[39;00m)\n\u001b[1;32m     67\u001b[0m     connection\u001b[39m.\u001b[39mcommit()\n\u001b[1;32m     68\u001b[0m \u001b[39melse\u001b[39;00m:\n",
      "File \u001b[0;32m~/anaconda3/lib/python3.11/site-packages/pandas/io/sql.py:635\u001b[0m, in \u001b[0;36mread_sql\u001b[0;34m(sql, con, index_col, coerce_float, params, parse_dates, columns, chunksize, dtype_backend, dtype)\u001b[0m\n\u001b[1;32m    633\u001b[0m \u001b[39mwith\u001b[39;00m pandasSQL_builder(con) \u001b[39mas\u001b[39;00m pandas_sql:\n\u001b[1;32m    634\u001b[0m     \u001b[39mif\u001b[39;00m \u001b[39misinstance\u001b[39m(pandas_sql, SQLiteDatabase):\n\u001b[0;32m--> 635\u001b[0m         \u001b[39mreturn\u001b[39;00m pandas_sql\u001b[39m.\u001b[39mread_query(\n\u001b[1;32m    636\u001b[0m             sql,\n\u001b[1;32m    637\u001b[0m             index_col\u001b[39m=\u001b[39mindex_col,\n\u001b[1;32m    638\u001b[0m             params\u001b[39m=\u001b[39mparams,\n\u001b[1;32m    639\u001b[0m             coerce_float\u001b[39m=\u001b[39mcoerce_float,\n\u001b[1;32m    640\u001b[0m             parse_dates\u001b[39m=\u001b[39mparse_dates,\n\u001b[1;32m    641\u001b[0m             chunksize\u001b[39m=\u001b[39mchunksize,\n\u001b[1;32m    642\u001b[0m             dtype_backend\u001b[39m=\u001b[39mdtype_backend,  \u001b[39m# type: ignore[arg-type]\u001b[39;00m\n\u001b[1;32m    643\u001b[0m             dtype\u001b[39m=\u001b[39mdtype,\n\u001b[1;32m    644\u001b[0m         )\n\u001b[1;32m    646\u001b[0m     \u001b[39mtry\u001b[39;00m:\n\u001b[1;32m    647\u001b[0m         _is_table_name \u001b[39m=\u001b[39m pandas_sql\u001b[39m.\u001b[39mhas_table(sql)\n",
      "File \u001b[0;32m~/anaconda3/lib/python3.11/site-packages/pandas/io/sql.py:2266\u001b[0m, in \u001b[0;36mSQLiteDatabase.read_query\u001b[0;34m(self, sql, index_col, coerce_float, parse_dates, params, chunksize, dtype, dtype_backend)\u001b[0m\n\u001b[1;32m   2255\u001b[0m \u001b[39mdef\u001b[39;00m \u001b[39mread_query\u001b[39m(\n\u001b[1;32m   2256\u001b[0m     \u001b[39mself\u001b[39m,\n\u001b[1;32m   2257\u001b[0m     sql,\n\u001b[0;32m   (...)\u001b[0m\n\u001b[1;32m   2264\u001b[0m     dtype_backend: DtypeBackend \u001b[39m|\u001b[39m Literal[\u001b[39m\"\u001b[39m\u001b[39mnumpy\u001b[39m\u001b[39m\"\u001b[39m] \u001b[39m=\u001b[39m \u001b[39m\"\u001b[39m\u001b[39mnumpy\u001b[39m\u001b[39m\"\u001b[39m,\n\u001b[1;32m   2265\u001b[0m ) \u001b[39m-\u001b[39m\u001b[39m>\u001b[39m DataFrame \u001b[39m|\u001b[39m Iterator[DataFrame]:\n\u001b[0;32m-> 2266\u001b[0m     cursor \u001b[39m=\u001b[39m \u001b[39mself\u001b[39m\u001b[39m.\u001b[39mexecute(sql, params)\n\u001b[1;32m   2267\u001b[0m     columns \u001b[39m=\u001b[39m [col_desc[\u001b[39m0\u001b[39m] \u001b[39mfor\u001b[39;00m col_desc \u001b[39min\u001b[39;00m cursor\u001b[39m.\u001b[39mdescription]\n\u001b[1;32m   2269\u001b[0m     \u001b[39mif\u001b[39;00m chunksize \u001b[39mis\u001b[39;00m \u001b[39mnot\u001b[39;00m \u001b[39mNone\u001b[39;00m:\n",
      "File \u001b[0;32m~/anaconda3/lib/python3.11/site-packages/pandas/io/sql.py:2214\u001b[0m, in \u001b[0;36mSQLiteDatabase.execute\u001b[0;34m(self, sql, params)\u001b[0m\n\u001b[1;32m   2211\u001b[0m     \u001b[39mraise\u001b[39;00m ex \u001b[39mfrom\u001b[39;00m \u001b[39minner_exc\u001b[39;00m\n\u001b[1;32m   2213\u001b[0m ex \u001b[39m=\u001b[39m DatabaseError(\u001b[39mf\u001b[39m\u001b[39m\"\u001b[39m\u001b[39mExecution failed on sql \u001b[39m\u001b[39m'\u001b[39m\u001b[39m{\u001b[39;00msql\u001b[39m}\u001b[39;00m\u001b[39m'\u001b[39m\u001b[39m: \u001b[39m\u001b[39m{\u001b[39;00mexc\u001b[39m}\u001b[39;00m\u001b[39m\"\u001b[39m)\n\u001b[0;32m-> 2214\u001b[0m \u001b[39mraise\u001b[39;00m ex \u001b[39mfrom\u001b[39;00m \u001b[39mexc\u001b[39;00m\n",
      "\u001b[0;31mDatabaseError\u001b[0m: Execution failed on sql '/Users/yli3/Library/CloudStorage/GoogleDrive-yinpu.chewy@gmail.com/My Drive/Documents/Projects/PulseGuard-Sales/query/mega_sales.txt': Severity: ERROR, Message: Syntax error at or near \"/\", Sqlstate: 42601, Position: 1, Routine: base_yyerror, File: /data/qb_workspaces/jenkins2/ReleaseBuilds/Grader/REL-9_3_1-x_grader/build/vertica/Parser/scan.l, Line: 1043, Error Code: 4856, SQL: '/Users/yli3/Library/CloudStorage/GoogleDrive-yinpu.chewy@gmail.com/My Drive/Documents/Projects/PulseGuard-Sales/query/mega_sales.txt'"
     ]
    }
   ],
   "source": [
    "# Load the data from database\n",
    "\n",
    "input_script = get_absolute_path(\n",
    "    filename=\"mega_sales.txt\",\n",
    "    relative_path='query',\n",
    "    base_dir=PROJECT_BASE_DIR\n",
    ")\n",
    "\n",
    "input_df = run_query(\n",
    "    input_script, True, query_args={'date1': '2023-11-02'}\n",
    ")"
   ]
  },
  {
   "cell_type": "code",
   "execution_count": null,
   "metadata": {},
   "outputs": [],
   "source": []
  },
  {
   "cell_type": "code",
   "execution_count": null,
   "metadata": {},
   "outputs": [],
   "source": []
  },
  {
   "cell_type": "code",
   "execution_count": 1,
   "metadata": {},
   "outputs": [],
   "source": [
    "import os\n",
    "user = os.environ.get('VERTICA_USER')\n",
    "password = os.environ.get('VERTICA_PASSWORD')\n"
   ]
  },
  {
   "cell_type": "code",
   "execution_count": 2,
   "metadata": {},
   "outputs": [],
   "source": [
    "password"
   ]
  },
  {
   "cell_type": "code",
   "execution_count": 3,
   "metadata": {},
   "outputs": [],
   "source": [
    "user"
   ]
  },
  {
   "cell_type": "code",
   "execution_count": null,
   "metadata": {},
   "outputs": [],
   "source": []
  }
 ],
 "metadata": {
  "kernelspec": {
   "display_name": "Python 3",
   "language": "python",
   "name": "python3"
  },
  "language_info": {
   "codemirror_mode": {
    "name": "ipython",
    "version": 3
   },
   "file_extension": ".py",
   "mimetype": "text/x-python",
   "name": "python",
   "nbconvert_exporter": "python",
   "pygments_lexer": "ipython3",
   "version": "3.11.5"
  }
 },
 "nbformat": 4,
 "nbformat_minor": 2
}
